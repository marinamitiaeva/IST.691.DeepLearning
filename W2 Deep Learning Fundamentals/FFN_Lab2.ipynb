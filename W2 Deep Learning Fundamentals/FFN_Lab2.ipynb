{
  "cells": [
    {
      "cell_type": "code",
      "execution_count": 1,
      "metadata": {
        "id": "pdl7nSj_WnXo"
      },
      "outputs": [],
      "source": [
        "## Don't change anything in this cell!\n",
        "from sklearn.datasets import fetch_covtype\n",
        "from sklearn.model_selection import train_test_split\n",
        "from sklearn.preprocessing import StandardScaler\n",
        "forests = fetch_covtype()\n",
        "X = forests.data\n",
        "Y = forests.target\n",
        "Y = Y-1\n",
        "X_train, X_test, Y_train, Y_test = train_test_split(X, Y, test_size=0.60, random_state=42)\n",
        "\n",
        "scaler = StandardScaler()\n",
        "X_train_scaled = scaler.fit_transform(X_train)\n",
        "X_test_scaled = scaler.transform(X_test)"
      ]
    },
    {
      "cell_type": "code",
      "execution_count": 2,
      "metadata": {},
      "outputs": [
        {
          "data": {
            "text/plain": [
              "array([[3000.,  282.,   22., ...,    0.,    0.,    0.],\n",
              "       [2685.,   97.,   36., ...,    0.,    0.,    0.],\n",
              "       [3224.,  153.,    4., ...,    0.,    0.,    0.],\n",
              "       ...,\n",
              "       [3153.,  287.,   17., ...,    0.,    0.,    0.],\n",
              "       [3065.,  348.,   21., ...,    0.,    0.,    0.],\n",
              "       [3021.,   26.,   16., ...,    0.,    0.,    0.]])"
            ]
          },
          "execution_count": 2,
          "metadata": {},
          "output_type": "execute_result"
        }
      ],
      "source": [
        "X_train"
      ]
    },
    {
      "cell_type": "code",
      "execution_count": 3,
      "metadata": {
        "colab": {
          "base_uri": "https://localhost:8080/"
        },
        "id": "XMn13a_-WnXp",
        "outputId": "91491f8c-2121-42d3-9677-55ec1c81b247"
      },
      "outputs": [
        {
          "name": "stderr",
          "output_type": "stream",
          "text": [
            "2024-09-16 21:47:24.070603: I external/local_xla/xla/tsl/cuda/cudart_stub.cc:32] Could not find cuda drivers on your machine, GPU will not be used.\n",
            "2024-09-16 21:47:24.210262: I external/local_xla/xla/tsl/cuda/cudart_stub.cc:32] Could not find cuda drivers on your machine, GPU will not be used.\n",
            "2024-09-16 21:47:24.371980: E external/local_xla/xla/stream_executor/cuda/cuda_fft.cc:485] Unable to register cuFFT factory: Attempting to register factory for plugin cuFFT when one has already been registered\n",
            "2024-09-16 21:47:24.599078: E external/local_xla/xla/stream_executor/cuda/cuda_dnn.cc:8454] Unable to register cuDNN factory: Attempting to register factory for plugin cuDNN when one has already been registered\n",
            "2024-09-16 21:47:24.664857: E external/local_xla/xla/stream_executor/cuda/cuda_blas.cc:1452] Unable to register cuBLAS factory: Attempting to register factory for plugin cuBLAS when one has already been registered\n",
            "2024-09-16 21:47:25.002215: I tensorflow/core/platform/cpu_feature_guard.cc:210] This TensorFlow binary is optimized to use available CPU instructions in performance-critical operations.\n",
            "To enable the following instructions: AVX2 FMA, in other operations, rebuild TensorFlow with the appropriate compiler flags.\n",
            "2024-09-16 21:47:26.652030: W tensorflow/compiler/tf2tensorrt/utils/py_utils.cc:38] TF-TRT Warning: Could not find TensorRT\n",
            "/home/codespace/.python/current/lib/python3.12/site-packages/keras/src/layers/core/dense.py:87: UserWarning: Do not pass an `input_shape`/`input_dim` argument to a layer. When using Sequential models, prefer using an `Input(shape)` object as the first layer in the model instead.\n",
            "  super().__init__(activity_regularizer=activity_regularizer, **kwargs)\n"
          ]
        },
        {
          "name": "stdout",
          "output_type": "stream",
          "text": [
            "Epoch 1/10\n"
          ]
        },
        {
          "name": "stderr",
          "output_type": "stream",
          "text": [
            "2024-09-16 21:47:29.284990: W external/local_tsl/tsl/framework/cpu_allocator_impl.cc:83] Allocation of 50199264 exceeds 10% of free system memory.\n"
          ]
        },
        {
          "name": "stdout",
          "output_type": "stream",
          "text": [
            "\u001b[1m7263/7263\u001b[0m \u001b[32m━━━━━━━━━━━━━━━━━━━━\u001b[0m\u001b[37m\u001b[0m \u001b[1m6s\u001b[0m 704us/step - accuracy: 0.6607 - loss: 0.9288\n",
            "Epoch 2/10\n",
            "\u001b[1m7263/7263\u001b[0m \u001b[32m━━━━━━━━━━━━━━━━━━━━\u001b[0m\u001b[37m\u001b[0m \u001b[1m5s\u001b[0m 680us/step - accuracy: 0.7208 - loss: 0.6852\n",
            "Epoch 3/10\n",
            "\u001b[1m7263/7263\u001b[0m \u001b[32m━━━━━━━━━━━━━━━━━━━━\u001b[0m\u001b[37m\u001b[0m \u001b[1m5s\u001b[0m 685us/step - accuracy: 0.7224 - loss: 0.6705\n",
            "Epoch 4/10\n",
            "\u001b[1m7263/7263\u001b[0m \u001b[32m━━━━━━━━━━━━━━━━━━━━\u001b[0m\u001b[37m\u001b[0m \u001b[1m5s\u001b[0m 672us/step - accuracy: 0.7249 - loss: 0.6602\n",
            "Epoch 5/10\n",
            "\u001b[1m7263/7263\u001b[0m \u001b[32m━━━━━━━━━━━━━━━━━━━━\u001b[0m\u001b[37m\u001b[0m \u001b[1m5s\u001b[0m 694us/step - accuracy: 0.7238 - loss: 0.6558\n",
            "Epoch 6/10\n",
            "\u001b[1m7263/7263\u001b[0m \u001b[32m━━━━━━━━━━━━━━━━━━━━\u001b[0m\u001b[37m\u001b[0m \u001b[1m5s\u001b[0m 665us/step - accuracy: 0.7239 - loss: 0.6529\n",
            "Epoch 7/10\n",
            "\u001b[1m7263/7263\u001b[0m \u001b[32m━━━━━━━━━━━━━━━━━━━━\u001b[0m\u001b[37m\u001b[0m \u001b[1m5s\u001b[0m 682us/step - accuracy: 0.7226 - loss: 0.6488\n",
            "Epoch 8/10\n",
            "\u001b[1m7263/7263\u001b[0m \u001b[32m━━━━━━━━━━━━━━━━━━━━\u001b[0m\u001b[37m\u001b[0m \u001b[1m5s\u001b[0m 677us/step - accuracy: 0.7237 - loss: 0.6528\n",
            "Epoch 9/10\n",
            "\u001b[1m7263/7263\u001b[0m \u001b[32m━━━━━━━━━━━━━━━━━━━━\u001b[0m\u001b[37m\u001b[0m \u001b[1m5s\u001b[0m 691us/step - accuracy: 0.7247 - loss: 0.6449\n",
            "Epoch 10/10\n",
            "\u001b[1m7263/7263\u001b[0m \u001b[32m━━━━━━━━━━━━━━━━━━━━\u001b[0m\u001b[37m\u001b[0m \u001b[1m5s\u001b[0m 678us/step - accuracy: 0.7225 - loss: 0.6475\n",
            "Evaluating on Test Set:\n",
            "\u001b[1m   69/10894\u001b[0m \u001b[37m━━━━━━━━━━━━━━━━━━━━\u001b[0m \u001b[1m7s\u001b[0m 735us/step - accuracy: 0.7312 - loss: 0.6217  "
          ]
        },
        {
          "name": "stderr",
          "output_type": "stream",
          "text": [
            "2024-09-16 21:48:20.927017: W external/local_tsl/tsl/framework/cpu_allocator_impl.cc:83] Allocation of 75299328 exceeds 10% of free system memory.\n"
          ]
        },
        {
          "name": "stdout",
          "output_type": "stream",
          "text": [
            "\u001b[1m10894/10894\u001b[0m \u001b[32m━━━━━━━━━━━━━━━━━━━━\u001b[0m\u001b[37m\u001b[0m \u001b[1m7s\u001b[0m 609us/step - accuracy: 0.7199 - loss: 0.6515\n"
          ]
        }
      ],
      "source": [
        "from tensorflow import keras\n",
        "\n",
        "# Define a simple model with 10 nodes in a hidden layer.\n",
        "# https://keras.io/api/layers/activations/\n",
        "# https://keras.io/api/layers/core_layers/dense/\n",
        "model = keras.models.Sequential([\n",
        "        keras.layers.Dense(10, activation=\"linear\", input_shape=X_train.shape[1:]),\n",
        "        keras.layers.Dense(7, activation=\"softmax\")\n",
        "    ])\n",
        "\n",
        "# https://www.tensorflow.org/api_docs/python/tf/keras/metrics/Accuracy\n",
        "# https://www.tensorflow.org/api_docs/python/tf/keras/losses/sparse_categorical_crossentropy\n",
        "model.compile(loss=\"sparse_categorical_crossentropy\",\n",
        "              metrics=[\"accuracy\"])\n",
        "\n",
        "\n",
        "history = model.fit(X_train_scaled, Y_train, epochs=10)\n",
        "\n",
        "print(\"Evaluating on Test Set:\")\n",
        "predictions = model.evaluate(X_test_scaled, Y_test)\n"
      ]
    },
    {
      "cell_type": "markdown",
      "metadata": {
        "id": "BQWVmLclaA0q"
      },
      "source": [
        "Questions from above:\n",
        "1.   What does the linear activation do in Keras?\n",
        "2.   In your own words what does **sparse_categorical_crossentropy** do?\n",
        "3.   Using the above as a starting point, run try 5 different configurations where each configuration chooses different hyperparameters.  Some hyperpameters to consider:\n",
        "    1.  Network Structure (number of nodes or layers).\n",
        "    2.  Activation methods\n",
        "    3.  You may also introduce BatchNormalization: https://keras.io/api/layers/normalization_layers/batch_normalization/\n",
        "    4.  kernel_initializer: https://keras.io/api/layers/initializers/\n",
        "\n",
        "4. You may not change the training/test split nor can you run more than 10 epochs.\n",
        "\n",
        "**Bonus**\n",
        "\n",
        "The person with the highest accuracy score will recieve 10 extra points on their quiz #1 (out of 100pts).  Note that in the unlikely event of a tie, winners will split extra points. All code must be able to run in Google Colab, professors output will be counted.\n",
        "\n",
        "It should go without saying that you have to use Keras FNN (no CNN or RNN, etc)."
      ]
    },
    {
      "cell_type": "markdown",
      "metadata": {},
      "source": [
        "Answers:\n",
        "\n",
        "1. In Keras, the linear activation function basically means no activation or a \"pass-through\" operation. The output is simply the input itself. Typically applied to output layer when we don't want to apply any non-linear transformations.\n",
        "\n",
        "2. sparse_categorical_crossentropy is a loss function in Keras, applied after activation fucntion when the problem is multiclass and target is integer-encoded. It calculates the loss between the true labels and the predicted probability distributioin provided by model."
      ]
    },
    {
      "cell_type": "markdown",
      "metadata": {},
      "source": [
        "### 1. Network structure"
      ]
    },
    {
      "cell_type": "code",
      "execution_count": 4,
      "metadata": {},
      "outputs": [
        {
          "name": "stdout",
          "output_type": "stream",
          "text": [
            "Epoch 1/10\n"
          ]
        },
        {
          "name": "stderr",
          "output_type": "stream",
          "text": [
            "2024-09-16 21:48:27.854697: W external/local_tsl/tsl/framework/cpu_allocator_impl.cc:83] Allocation of 50199264 exceeds 10% of free system memory.\n"
          ]
        },
        {
          "name": "stdout",
          "output_type": "stream",
          "text": [
            "\u001b[1m7263/7263\u001b[0m \u001b[32m━━━━━━━━━━━━━━━━━━━━\u001b[0m\u001b[37m\u001b[0m \u001b[1m7s\u001b[0m 854us/step - accuracy: 0.6872 - loss: 0.7677\n",
            "Epoch 2/10\n",
            "\u001b[1m7263/7263\u001b[0m \u001b[32m━━━━━━━━━━━━━━━━━━━━\u001b[0m\u001b[37m\u001b[0m \u001b[1m10s\u001b[0m 819us/step - accuracy: 0.7178 - loss: 0.6567\n",
            "Epoch 3/10\n",
            "\u001b[1m7263/7263\u001b[0m \u001b[32m━━━━━━━━━━━━━━━━━━━━\u001b[0m\u001b[37m\u001b[0m \u001b[1m10s\u001b[0m 828us/step - accuracy: 0.7192 - loss: 0.6544\n",
            "Epoch 4/10\n",
            "\u001b[1m7263/7263\u001b[0m \u001b[32m━━━━━━━━━━━━━━━━━━━━\u001b[0m\u001b[37m\u001b[0m \u001b[1m6s\u001b[0m 816us/step - accuracy: 0.7186 - loss: 0.6537\n",
            "Epoch 5/10\n",
            "\u001b[1m7263/7263\u001b[0m \u001b[32m━━━━━━━━━━━━━━━━━━━━\u001b[0m\u001b[37m\u001b[0m \u001b[1m10s\u001b[0m 805us/step - accuracy: 0.7190 - loss: 0.6544\n",
            "Epoch 6/10\n",
            "\u001b[1m7263/7263\u001b[0m \u001b[32m━━━━━━━━━━━━━━━━━━━━\u001b[0m\u001b[37m\u001b[0m \u001b[1m6s\u001b[0m 812us/step - accuracy: 0.7188 - loss: 0.6541\n",
            "Epoch 7/10\n",
            "\u001b[1m7263/7263\u001b[0m \u001b[32m━━━━━━━━━━━━━━━━━━━━\u001b[0m\u001b[37m\u001b[0m \u001b[1m10s\u001b[0m 815us/step - accuracy: 0.7206 - loss: 0.6497\n",
            "Epoch 8/10\n",
            "\u001b[1m7263/7263\u001b[0m \u001b[32m━━━━━━━━━━━━━━━━━━━━\u001b[0m\u001b[37m\u001b[0m \u001b[1m6s\u001b[0m 788us/step - accuracy: 0.7213 - loss: 0.6523\n",
            "Epoch 9/10\n",
            "\u001b[1m7263/7263\u001b[0m \u001b[32m━━━━━━━━━━━━━━━━━━━━\u001b[0m\u001b[37m\u001b[0m \u001b[1m10s\u001b[0m 804us/step - accuracy: 0.7222 - loss: 0.6506\n",
            "Epoch 10/10\n",
            "\u001b[1m7263/7263\u001b[0m \u001b[32m━━━━━━━━━━━━━━━━━━━━\u001b[0m\u001b[37m\u001b[0m \u001b[1m10s\u001b[0m 786us/step - accuracy: 0.7225 - loss: 0.6498\n",
            "Evaluating on Test Set:\n",
            "\u001b[1m  111/10894\u001b[0m \u001b[37m━━━━━━━━━━━━━━━━━━━━\u001b[0m \u001b[1m9s\u001b[0m 910us/step - accuracy: 0.7284 - loss: 0.6357 "
          ]
        },
        {
          "name": "stderr",
          "output_type": "stream",
          "text": [
            "2024-09-16 21:49:58.011544: W external/local_tsl/tsl/framework/cpu_allocator_impl.cc:83] Allocation of 75299328 exceeds 10% of free system memory.\n"
          ]
        },
        {
          "name": "stdout",
          "output_type": "stream",
          "text": [
            "\u001b[1m10894/10894\u001b[0m \u001b[32m━━━━━━━━━━━━━━━━━━━━\u001b[0m\u001b[37m\u001b[0m \u001b[1m7s\u001b[0m 632us/step - accuracy: 0.7250 - loss: 0.6525\n"
          ]
        }
      ],
      "source": [
        "model1 = keras.models.Sequential([\n",
        "        keras.layers.Dense(10, activation=\"linear\", input_shape=X_train.shape[1:]),\n",
        "        keras.layers.Dense(20, activation=\"linear\", input_shape=X_train.shape[1:]),\n",
        "        keras.layers.Dense(30, activation=\"linear\", input_shape=X_train.shape[1:]),\n",
        "        keras.layers.Dense(40, activation=\"linear\", input_shape=X_train.shape[1:]),\n",
        "        keras.layers.Dense(7, activation=\"softmax\")\n",
        "    ])\n",
        "\n",
        "model1.compile(loss=\"sparse_categorical_crossentropy\",\n",
        "              metrics=[\"accuracy\"])\n",
        "\n",
        "\n",
        "history = model1.fit(X_train_scaled, Y_train, epochs=10)\n",
        "\n",
        "print(\"Evaluating on Test Set:\")\n",
        "predictions = model1.evaluate(X_test_scaled, Y_test)"
      ]
    },
    {
      "cell_type": "markdown",
      "metadata": {},
      "source": [
        "### 2. Activation function (ReLU)"
      ]
    },
    {
      "cell_type": "code",
      "execution_count": 5,
      "metadata": {},
      "outputs": [
        {
          "name": "stdout",
          "output_type": "stream",
          "text": [
            "Epoch 1/10\n"
          ]
        },
        {
          "name": "stderr",
          "output_type": "stream",
          "text": [
            "2024-09-16 21:50:05.094929: W external/local_tsl/tsl/framework/cpu_allocator_impl.cc:83] Allocation of 50199264 exceeds 10% of free system memory.\n"
          ]
        },
        {
          "name": "stdout",
          "output_type": "stream",
          "text": [
            "\u001b[1m7263/7263\u001b[0m \u001b[32m━━━━━━━━━━━━━━━━━━━━\u001b[0m\u001b[37m\u001b[0m \u001b[1m5s\u001b[0m 665us/step - accuracy: 0.6480 - loss: 0.8582\n",
            "Epoch 2/10\n",
            "\u001b[1m7263/7263\u001b[0m \u001b[32m━━━━━━━━━━━━━━━━━━━━\u001b[0m\u001b[37m\u001b[0m \u001b[1m5s\u001b[0m 680us/step - accuracy: 0.7286 - loss: 0.6433\n",
            "Epoch 3/10\n",
            "\u001b[1m7263/7263\u001b[0m \u001b[32m━━━━━━━━━━━━━━━━━━━━\u001b[0m\u001b[37m\u001b[0m \u001b[1m5s\u001b[0m 671us/step - accuracy: 0.7360 - loss: 0.6330\n",
            "Epoch 4/10\n",
            "\u001b[1m7263/7263\u001b[0m \u001b[32m━━━━━━━━━━━━━━━━━━━━\u001b[0m\u001b[37m\u001b[0m \u001b[1m5s\u001b[0m 680us/step - accuracy: 0.7383 - loss: 0.6388\n",
            "Epoch 5/10\n",
            "\u001b[1m7263/7263\u001b[0m \u001b[32m━━━━━━━━━━━━━━━━━━━━\u001b[0m\u001b[37m\u001b[0m \u001b[1m5s\u001b[0m 667us/step - accuracy: 0.7384 - loss: 0.6380\n",
            "Epoch 6/10\n",
            "\u001b[1m7263/7263\u001b[0m \u001b[32m━━━━━━━━━━━━━━━━━━━━\u001b[0m\u001b[37m\u001b[0m \u001b[1m5s\u001b[0m 681us/step - accuracy: 0.7396 - loss: 0.6322\n",
            "Epoch 7/10\n",
            "\u001b[1m7263/7263\u001b[0m \u001b[32m━━━━━━━━━━━━━━━━━━━━\u001b[0m\u001b[37m\u001b[0m \u001b[1m5s\u001b[0m 669us/step - accuracy: 0.7410 - loss: 0.6407\n",
            "Epoch 8/10\n",
            "\u001b[1m7263/7263\u001b[0m \u001b[32m━━━━━━━━━━━━━━━━━━━━\u001b[0m\u001b[37m\u001b[0m \u001b[1m5s\u001b[0m 683us/step - accuracy: 0.7425 - loss: 0.6569\n",
            "Epoch 9/10\n",
            "\u001b[1m7263/7263\u001b[0m \u001b[32m━━━━━━━━━━━━━━━━━━━━\u001b[0m\u001b[37m\u001b[0m \u001b[1m5s\u001b[0m 669us/step - accuracy: 0.7420 - loss: 0.6465\n",
            "Epoch 10/10\n",
            "\u001b[1m7263/7263\u001b[0m \u001b[32m━━━━━━━━━━━━━━━━━━━━\u001b[0m\u001b[37m\u001b[0m \u001b[1m5s\u001b[0m 665us/step - accuracy: 0.7406 - loss: 0.6687\n",
            "Evaluating on Test Set:\n",
            "\u001b[1m10894/10894\u001b[0m \u001b[32m━━━━━━━━━━━━━━━━━━━━\u001b[0m\u001b[37m\u001b[0m \u001b[1m7s\u001b[0m 591us/step - accuracy: 0.7377 - loss: 0.6580\n"
          ]
        }
      ],
      "source": [
        "model2 = keras.models.Sequential([\n",
        "        keras.layers.Dense(10, activation=\"relu\", input_shape=X_train.shape[1:]),\n",
        "        keras.layers.Dense(7, activation=\"softmax\")\n",
        "    ])\n",
        "\n",
        "# https://www.tensorflow.org/api_docs/python/tf/keras/metrics/Accuracy\n",
        "# https://www.tensorflow.org/api_docs/python/tf/keras/losses/sparse_categorical_crossentropy\n",
        "model2.compile(loss=\"sparse_categorical_crossentropy\",\n",
        "              metrics=[\"accuracy\"])\n",
        "\n",
        "\n",
        "history = model2.fit(X_train_scaled, Y_train, epochs=10)\n",
        "\n",
        "print(\"Evaluating on Test Set:\")\n",
        "predictions = model2.evaluate(X_test_scaled, Y_test)"
      ]
    },
    {
      "cell_type": "markdown",
      "metadata": {},
      "source": [
        "### 3. Network structure + Activation function (ReLU)"
      ]
    },
    {
      "cell_type": "code",
      "execution_count": 6,
      "metadata": {},
      "outputs": [
        {
          "name": "stdout",
          "output_type": "stream",
          "text": [
            "Epoch 1/10\n",
            "\u001b[1m7263/7263\u001b[0m \u001b[32m━━━━━━━━━━━━━━━━━━━━\u001b[0m\u001b[37m\u001b[0m \u001b[1m6s\u001b[0m 796us/step - accuracy: 0.6934 - loss: 0.7576\n",
            "Epoch 2/10\n",
            "\u001b[1m7263/7263\u001b[0m \u001b[32m━━━━━━━━━━━━━━━━━━━━\u001b[0m\u001b[37m\u001b[0m \u001b[1m6s\u001b[0m 786us/step - accuracy: 0.7469 - loss: 0.5913\n",
            "Epoch 3/10\n",
            "\u001b[1m7263/7263\u001b[0m \u001b[32m━━━━━━━━━━━━━━━━━━━━\u001b[0m\u001b[37m\u001b[0m \u001b[1m6s\u001b[0m 811us/step - accuracy: 0.7538 - loss: 0.5747\n",
            "Epoch 4/10\n",
            "\u001b[1m7263/7263\u001b[0m \u001b[32m━━━━━━━━━━━━━━━━━━━━\u001b[0m\u001b[37m\u001b[0m \u001b[1m10s\u001b[0m 810us/step - accuracy: 0.7637 - loss: 0.5640\n",
            "Epoch 5/10\n",
            "\u001b[1m7263/7263\u001b[0m \u001b[32m━━━━━━━━━━━━━━━━━━━━\u001b[0m\u001b[37m\u001b[0m \u001b[1m6s\u001b[0m 783us/step - accuracy: 0.7673 - loss: 0.5602\n",
            "Epoch 6/10\n",
            "\u001b[1m7263/7263\u001b[0m \u001b[32m━━━━━━━━━━━━━━━━━━━━\u001b[0m\u001b[37m\u001b[0m \u001b[1m10s\u001b[0m 801us/step - accuracy: 0.7708 - loss: 0.5594\n",
            "Epoch 7/10\n",
            "\u001b[1m7263/7263\u001b[0m \u001b[32m━━━━━━━━━━━━━━━━━━━━\u001b[0m\u001b[37m\u001b[0m \u001b[1m10s\u001b[0m 781us/step - accuracy: 0.7721 - loss: 0.5728\n",
            "Epoch 8/10\n"
          ]
        },
        {
          "name": "stdout",
          "output_type": "stream",
          "text": [
            "\u001b[1m7263/7263\u001b[0m \u001b[32m━━━━━━━━━━━━━━━━━━━━\u001b[0m\u001b[37m\u001b[0m \u001b[1m11s\u001b[0m 845us/step - accuracy: 0.7697 - loss: 0.6654\n",
            "Epoch 9/10\n",
            "\u001b[1m7263/7263\u001b[0m \u001b[32m━━━━━━━━━━━━━━━━━━━━\u001b[0m\u001b[37m\u001b[0m \u001b[1m10s\u001b[0m 827us/step - accuracy: 0.7660 - loss: 0.6638\n",
            "Epoch 10/10\n",
            "\u001b[1m7263/7263\u001b[0m \u001b[32m━━━━━━━━━━━━━━━━━━━━\u001b[0m\u001b[37m\u001b[0m \u001b[1m10s\u001b[0m 832us/step - accuracy: 0.7608 - loss: 0.8415\n",
            "Evaluating on Test Set:\n",
            "\u001b[1m10894/10894\u001b[0m \u001b[32m━━━━━━━━━━━━━━━━━━━━\u001b[0m\u001b[37m\u001b[0m \u001b[1m7s\u001b[0m 651us/step - accuracy: 0.7566 - loss: 0.7593\n"
          ]
        }
      ],
      "source": [
        "model3 = keras.models.Sequential([\n",
        "        keras.layers.Dense(10, activation=\"relu\", input_shape=X_train.shape[1:]),\n",
        "        keras.layers.Dense(20, activation=\"relu\", input_shape=X_train.shape[1:]),\n",
        "        keras.layers.Dense(30, activation=\"relu\", input_shape=X_train.shape[1:]),\n",
        "        keras.layers.Dense(40, activation=\"relu\", input_shape=X_train.shape[1:]),\n",
        "        keras.layers.Dense(7, activation=\"softmax\")\n",
        "    ])\n",
        "\n",
        "model3.compile(loss=\"sparse_categorical_crossentropy\",\n",
        "              metrics=[\"accuracy\"])\n",
        "\n",
        "\n",
        "history = model3.fit(X_train_scaled, Y_train, epochs=10)\n",
        "\n",
        "print(\"Evaluating on Test Set:\")\n",
        "predictions = model3.evaluate(X_test_scaled, Y_test)"
      ]
    },
    {
      "cell_type": "markdown",
      "metadata": {},
      "source": [
        "### 4. Network structure + Activation function (LeakyReLU) + Batch normalization"
      ]
    },
    {
      "cell_type": "code",
      "execution_count": 7,
      "metadata": {},
      "outputs": [
        {
          "name": "stdout",
          "output_type": "stream",
          "text": [
            "Epoch 1/10\n"
          ]
        },
        {
          "name": "stderr",
          "output_type": "stream",
          "text": [
            "/home/codespace/.python/current/lib/python3.12/site-packages/keras/src/layers/activations/leaky_relu.py:41: UserWarning: Argument `alpha` is deprecated. Use `negative_slope` instead.\n",
            "  warnings.warn(\n"
          ]
        },
        {
          "name": "stdout",
          "output_type": "stream",
          "text": [
            "\u001b[1m7263/7263\u001b[0m \u001b[32m━━━━━━━━━━━━━━━━━━━━\u001b[0m\u001b[37m\u001b[0m \u001b[1m10s\u001b[0m 1ms/step - accuracy: 0.6715 - loss: 0.7855\n",
            "Epoch 2/10\n",
            "\u001b[1m7263/7263\u001b[0m \u001b[32m━━━━━━━━━━━━━━━━━━━━\u001b[0m\u001b[37m\u001b[0m \u001b[1m8s\u001b[0m 1ms/step - accuracy: 0.7300 - loss: 0.6315\n",
            "Epoch 3/10\n",
            "\u001b[1m7263/7263\u001b[0m \u001b[32m━━━━━━━━━━━━━━━━━━━━\u001b[0m\u001b[37m\u001b[0m \u001b[1m10s\u001b[0m 1ms/step - accuracy: 0.7378 - loss: 0.6111\n",
            "Epoch 4/10\n",
            "\u001b[1m7263/7263\u001b[0m \u001b[32m━━━━━━━━━━━━━━━━━━━━\u001b[0m\u001b[37m\u001b[0m \u001b[1m8s\u001b[0m 1ms/step - accuracy: 0.7436 - loss: 0.5994\n",
            "Epoch 5/10\n",
            "\u001b[1m7263/7263\u001b[0m \u001b[32m━━━━━━━━━━━━━━━━━━━━\u001b[0m\u001b[37m\u001b[0m \u001b[1m9s\u001b[0m 1ms/step - accuracy: 0.7498 - loss: 0.5883\n",
            "Epoch 6/10\n",
            "\u001b[1m7263/7263\u001b[0m \u001b[32m━━━━━━━━━━━━━━━━━━━━\u001b[0m\u001b[37m\u001b[0m \u001b[1m8s\u001b[0m 1ms/step - accuracy: 0.7509 - loss: 0.5820\n",
            "Epoch 7/10\n",
            "\u001b[1m7263/7263\u001b[0m \u001b[32m━━━━━━━━━━━━━━━━━━━━\u001b[0m\u001b[37m\u001b[0m \u001b[1m9s\u001b[0m 1ms/step - accuracy: 0.7543 - loss: 0.5783\n",
            "Epoch 8/10\n",
            "\u001b[1m7263/7263\u001b[0m \u001b[32m━━━━━━━━━━━━━━━━━━━━\u001b[0m\u001b[37m\u001b[0m \u001b[1m10s\u001b[0m 1ms/step - accuracy: 0.7573 - loss: 0.5719\n",
            "Epoch 9/10\n",
            "\u001b[1m7263/7263\u001b[0m \u001b[32m━━━━━━━━━━━━━━━━━━━━\u001b[0m\u001b[37m\u001b[0m \u001b[1m9s\u001b[0m 1ms/step - accuracy: 0.7582 - loss: 0.5751\n",
            "Epoch 10/10\n",
            "\u001b[1m7263/7263\u001b[0m \u001b[32m━━━━━━━━━━━━━━━━━━━━\u001b[0m\u001b[37m\u001b[0m \u001b[1m8s\u001b[0m 1ms/step - accuracy: 0.7593 - loss: 0.5694\n",
            "Evaluating on Test Set:\n",
            "\u001b[1m10894/10894\u001b[0m \u001b[32m━━━━━━━━━━━━━━━━━━━━\u001b[0m\u001b[37m\u001b[0m \u001b[1m8s\u001b[0m 740us/step - accuracy: 0.7881 - loss: 0.5087\n"
          ]
        }
      ],
      "source": [
        "from tensorflow.keras.layers import LeakyReLU\n",
        "\n",
        "model4 = keras.models.Sequential([\n",
        "        keras.layers.Dense(10, input_shape=X_train.shape[1:]),\n",
        "        keras.layers.BatchNormalization(),\n",
        "        LeakyReLU(alpha=0.1),\n",
        "\n",
        "        keras.layers.Dense(20),\n",
        "        keras.layers.BatchNormalization(),\n",
        "        LeakyReLU(alpha=0.1),\n",
        "\n",
        "        keras.layers.Dense(30),\n",
        "        keras.layers.BatchNormalization(),\n",
        "        LeakyReLU(alpha=0.1),\n",
        "\n",
        "        keras.layers.Dense(40),\n",
        "        keras.layers.BatchNormalization(),\n",
        "        LeakyReLU(alpha=0.1),\n",
        "\n",
        "        keras.layers.Dense(7, activation=\"softmax\")\n",
        "    ])\n",
        "\n",
        "model4.compile(loss=\"sparse_categorical_crossentropy\",\n",
        "              metrics=[\"accuracy\"])\n",
        "\n",
        "\n",
        "history = model4.fit(X_train_scaled, Y_train, epochs=10, batch_size=32)\n",
        "\n",
        "print(\"Evaluating on Test Set:\")\n",
        "predictions = model4.evaluate(X_test_scaled, Y_test)"
      ]
    },
    {
      "cell_type": "markdown",
      "metadata": {},
      "source": [
        "### 5. Network structure + Activation function (LeakyReLU) + Batch normalization + Kernel initializer"
      ]
    },
    {
      "cell_type": "code",
      "execution_count": 8,
      "metadata": {},
      "outputs": [
        {
          "name": "stdout",
          "output_type": "stream",
          "text": [
            "Epoch 1/10\n",
            "\u001b[1m7263/7263\u001b[0m \u001b[32m━━━━━━━━━━━━━━━━━━━━\u001b[0m\u001b[37m\u001b[0m \u001b[1m10s\u001b[0m 1ms/step - accuracy: 0.6661 - loss: 0.8009\n",
            "Epoch 2/10\n",
            "\u001b[1m7263/7263\u001b[0m \u001b[32m━━━━━━━━━━━━━━━━━━━━\u001b[0m\u001b[37m\u001b[0m \u001b[1m10s\u001b[0m 1ms/step - accuracy: 0.7290 - loss: 0.6317\n",
            "Epoch 3/10\n",
            "\u001b[1m7263/7263\u001b[0m \u001b[32m━━━━━━━━━━━━━━━━━━━━\u001b[0m\u001b[37m\u001b[0m \u001b[1m8s\u001b[0m 1ms/step - accuracy: 0.7413 - loss: 0.6093\n",
            "Epoch 4/10\n",
            "\u001b[1m7263/7263\u001b[0m \u001b[32m━━━━━━━━━━━━━━━━━━━━\u001b[0m\u001b[37m\u001b[0m \u001b[1m8s\u001b[0m 1ms/step - accuracy: 0.7484 - loss: 0.5935\n",
            "Epoch 5/10\n",
            "\u001b[1m7263/7263\u001b[0m \u001b[32m━━━━━━━━━━━━━━━━━━━━\u001b[0m\u001b[37m\u001b[0m \u001b[1m8s\u001b[0m 1ms/step - accuracy: 0.7514 - loss: 0.5861\n",
            "Epoch 6/10\n",
            "\u001b[1m7263/7263\u001b[0m \u001b[32m━━━━━━━━━━━━━━━━━━━━\u001b[0m\u001b[37m\u001b[0m \u001b[1m8s\u001b[0m 1ms/step - accuracy: 0.7556 - loss: 0.5803\n",
            "Epoch 7/10\n",
            "\u001b[1m7263/7263\u001b[0m \u001b[32m━━━━━━━━━━━━━━━━━━━━\u001b[0m\u001b[37m\u001b[0m \u001b[1m11s\u001b[0m 1ms/step - accuracy: 0.7583 - loss: 0.5737\n",
            "Epoch 8/10\n",
            "\u001b[1m7263/7263\u001b[0m \u001b[32m━━━━━━━━━━━━━━━━━━━━\u001b[0m\u001b[37m\u001b[0m \u001b[1m10s\u001b[0m 1ms/step - accuracy: 0.7593 - loss: 0.5718\n",
            "Epoch 9/10\n",
            "\u001b[1m7263/7263\u001b[0m \u001b[32m━━━━━━━━━━━━━━━━━━━━\u001b[0m\u001b[37m\u001b[0m \u001b[1m10s\u001b[0m 1ms/step - accuracy: 0.7633 - loss: 0.5640\n",
            "Epoch 10/10\n",
            "\u001b[1m7263/7263\u001b[0m \u001b[32m━━━━━━━━━━━━━━━━━━━━\u001b[0m\u001b[37m\u001b[0m \u001b[1m10s\u001b[0m 1ms/step - accuracy: 0.7615 - loss: 0.5652\n",
            "Evaluating on Test Set:\n",
            "\u001b[1m10894/10894\u001b[0m \u001b[32m━━━━━━━━━━━━━━━━━━━━\u001b[0m\u001b[37m\u001b[0m \u001b[1m8s\u001b[0m 717us/step - accuracy: 0.7857 - loss: 0.5129\n"
          ]
        }
      ],
      "source": [
        "from tensorflow.keras.initializers import HeNormal\n",
        "\n",
        "model5 = keras.models.Sequential([\n",
        "        keras.layers.Dense(10, input_shape=X_train.shape[1:], kernel_initializer=HeNormal()),\n",
        "        keras.layers.BatchNormalization(),\n",
        "        LeakyReLU(alpha=0.15),\n",
        "\n",
        "        keras.layers.Dense(20, kernel_initializer=HeNormal()),\n",
        "        keras.layers.BatchNormalization(),\n",
        "        LeakyReLU(alpha=0.15),\n",
        "\n",
        "        keras.layers.Dense(30, kernel_initializer=HeNormal()),\n",
        "        keras.layers.BatchNormalization(),\n",
        "        LeakyReLU(alpha=0.2),\n",
        "\n",
        "        keras.layers.Dense(40, kernel_initializer=HeNormal()),\n",
        "        keras.layers.BatchNormalization(),\n",
        "        LeakyReLU(alpha=0.2),\n",
        "\n",
        "        keras.layers.Dense(7, activation=\"softmax\")\n",
        "    ])\n",
        "\n",
        "model5.compile(loss=\"sparse_categorical_crossentropy\",\n",
        "              metrics=[\"accuracy\"])\n",
        "\n",
        "\n",
        "history = model5.fit(X_train_scaled, Y_train, epochs=10)\n",
        "\n",
        "print(\"Evaluating on Test Set:\")\n",
        "predictions = model5.evaluate(X_test_scaled, Y_test)"
      ]
    },
    {
      "cell_type": "markdown",
      "metadata": {},
      "source": [
        "### 6. Network structure + Activation function (Leaky ReLU) + Batch normalization + Kernel initializer + Dropout layer"
      ]
    },
    {
      "cell_type": "code",
      "execution_count": 10,
      "metadata": {},
      "outputs": [
        {
          "name": "stdout",
          "output_type": "stream",
          "text": [
            "Epoch 1/10\n",
            "\u001b[1m7263/7263\u001b[0m \u001b[32m━━━━━━━━━━━━━━━━━━━━\u001b[0m\u001b[37m\u001b[0m \u001b[1m11s\u001b[0m 1ms/step - accuracy: 0.6323 - loss: 0.8831\n",
            "Epoch 2/10\n",
            "\u001b[1m7263/7263\u001b[0m \u001b[32m━━━━━━━━━━━━━━━━━━━━\u001b[0m\u001b[37m\u001b[0m \u001b[1m10s\u001b[0m 1ms/step - accuracy: 0.7063 - loss: 0.7090\n",
            "Epoch 3/10\n",
            "\u001b[1m7263/7263\u001b[0m \u001b[32m━━━━━━━━━━━━━━━━━━━━\u001b[0m\u001b[37m\u001b[0m \u001b[1m10s\u001b[0m 1ms/step - accuracy: 0.7114 - loss: 0.6962\n",
            "Epoch 4/10\n",
            "\u001b[1m7263/7263\u001b[0m \u001b[32m━━━━━━━━━━━━━━━━━━━━\u001b[0m\u001b[37m\u001b[0m \u001b[1m10s\u001b[0m 1ms/step - accuracy: 0.7151 - loss: 0.6894\n",
            "Epoch 5/10\n",
            "\u001b[1m7263/7263\u001b[0m \u001b[32m━━━━━━━━━━━━━━━━━━━━\u001b[0m\u001b[37m\u001b[0m \u001b[1m10s\u001b[0m 1ms/step - accuracy: 0.7183 - loss: 0.6824\n",
            "Epoch 6/10\n",
            "\u001b[1m7263/7263\u001b[0m \u001b[32m━━━━━━━━━━━━━━━━━━━━\u001b[0m\u001b[37m\u001b[0m \u001b[1m10s\u001b[0m 1ms/step - accuracy: 0.7170 - loss: 0.6821\n",
            "Epoch 7/10\n",
            "\u001b[1m7263/7263\u001b[0m \u001b[32m━━━━━━━━━━━━━━━━━━━━\u001b[0m\u001b[37m\u001b[0m \u001b[1m10s\u001b[0m 1ms/step - accuracy: 0.7183 - loss: 0.6786\n",
            "Epoch 8/10\n",
            "\u001b[1m7263/7263\u001b[0m \u001b[32m━━━━━━━━━━━━━━━━━━━━\u001b[0m\u001b[37m\u001b[0m \u001b[1m10s\u001b[0m 1ms/step - accuracy: 0.7194 - loss: 0.6747\n",
            "Epoch 9/10\n",
            "\u001b[1m7263/7263\u001b[0m \u001b[32m━━━━━━━━━━━━━━━━━━━━\u001b[0m\u001b[37m\u001b[0m \u001b[1m10s\u001b[0m 1ms/step - accuracy: 0.7185 - loss: 0.6770\n",
            "Epoch 10/10\n",
            "\u001b[1m7263/7263\u001b[0m \u001b[32m━━━━━━━━━━━━━━━━━━━━\u001b[0m\u001b[37m\u001b[0m \u001b[1m10s\u001b[0m 1ms/step - accuracy: 0.7183 - loss: 0.6770\n",
            "Evaluating on Test Set:\n",
            "\u001b[1m10894/10894\u001b[0m \u001b[32m━━━━━━━━━━━━━━━━━━━━\u001b[0m\u001b[37m\u001b[0m \u001b[1m8s\u001b[0m 737us/step - accuracy: 0.7434 - loss: 0.6057\n"
          ]
        }
      ],
      "source": [
        "model6 = keras.models.Sequential([\n",
        "        keras.layers.Dense(10, input_shape=X_train.shape[1:], kernel_initializer=HeNormal()),\n",
        "        keras.layers.BatchNormalization(),\n",
        "        LeakyReLU(alpha=0.05),\n",
        "        keras.layers.Dropout(0.1),\n",
        "\n",
        "        keras.layers.Dense(20, kernel_initializer=HeNormal()),\n",
        "        keras.layers.BatchNormalization(),\n",
        "        LeakyReLU(alpha=0.1),\n",
        "        keras.layers.Dropout(0.1),\n",
        "\n",
        "        keras.layers.Dense(30, kernel_initializer=HeNormal()),\n",
        "        keras.layers.BatchNormalization(),\n",
        "        LeakyReLU(alpha=0.15),\n",
        "        keras.layers.Dropout(0.1),\n",
        "\n",
        "        keras.layers.Dense(40, kernel_initializer=HeNormal()),\n",
        "        keras.layers.BatchNormalization(),\n",
        "        LeakyReLU(alpha=0.2),\n",
        "        keras.layers.Dropout(0.1),\n",
        "\n",
        "        keras.layers.Dense(7, activation=\"softmax\")\n",
        "    ])\n",
        " \n",
        "model6.compile(loss=\"sparse_categorical_crossentropy\",\n",
        "              metrics=[\"accuracy\"])\n",
        "\n",
        "\n",
        "history = model6.fit(X_train_scaled, Y_train, epochs=10)\n",
        "\n",
        "print(\"Evaluating on Test Set:\")\n",
        "predictions = model6.evaluate(X_test_scaled, Y_test)"
      ]
    },
    {
      "cell_type": "markdown",
      "metadata": {},
      "source": [
        "### 7. Network structure + Activation function (Swish) + Batch normalization + Kernel initializer + Dropout layer + Regularization"
      ]
    },
    {
      "cell_type": "code",
      "execution_count": 11,
      "metadata": {},
      "outputs": [
        {
          "name": "stdout",
          "output_type": "stream",
          "text": [
            "Epoch 1/10\n",
            "\u001b[1m7263/7263\u001b[0m \u001b[32m━━━━━━━━━━━━━━━━━━━━\u001b[0m\u001b[37m\u001b[0m \u001b[1m21s\u001b[0m 3ms/step - accuracy: 0.6718 - loss: 1.3578\n",
            "Epoch 2/10\n",
            "\u001b[1m7263/7263\u001b[0m \u001b[32m━━━━━━━━━━━━━━━━━━━━\u001b[0m\u001b[37m\u001b[0m \u001b[1m19s\u001b[0m 3ms/step - accuracy: 0.7177 - loss: 0.7570\n",
            "Epoch 3/10\n",
            "\u001b[1m7263/7263\u001b[0m \u001b[32m━━━━━━━━━━━━━━━━━━━━\u001b[0m\u001b[37m\u001b[0m \u001b[1m21s\u001b[0m 3ms/step - accuracy: 0.7284 - loss: 0.7445\n",
            "Epoch 4/10\n",
            "\u001b[1m7263/7263\u001b[0m \u001b[32m━━━━━━━━━━━━━━━━━━━━\u001b[0m\u001b[37m\u001b[0m \u001b[1m19s\u001b[0m 3ms/step - accuracy: 0.7337 - loss: 0.7380\n",
            "Epoch 5/10\n",
            "\u001b[1m7263/7263\u001b[0m \u001b[32m━━━━━━━━━━━━━━━━━━━━\u001b[0m\u001b[37m\u001b[0m \u001b[1m19s\u001b[0m 3ms/step - accuracy: 0.7361 - loss: 0.7363\n",
            "Epoch 6/10\n",
            "\u001b[1m7263/7263\u001b[0m \u001b[32m━━━━━━━━━━━━━━━━━━━━\u001b[0m\u001b[37m\u001b[0m \u001b[1m21s\u001b[0m 3ms/step - accuracy: 0.7376 - loss: 0.7329\n",
            "Epoch 7/10\n",
            "\u001b[1m7263/7263\u001b[0m \u001b[32m━━━━━━━━━━━━━━━━━━━━\u001b[0m\u001b[37m\u001b[0m \u001b[1m20s\u001b[0m 3ms/step - accuracy: 0.7365 - loss: 0.7314\n",
            "Epoch 8/10\n",
            "\u001b[1m7263/7263\u001b[0m \u001b[32m━━━━━━━━━━━━━━━━━━━━\u001b[0m\u001b[37m\u001b[0m \u001b[1m20s\u001b[0m 3ms/step - accuracy: 0.7403 - loss: 0.7305\n",
            "Epoch 9/10\n",
            "\u001b[1m7263/7263\u001b[0m \u001b[32m━━━━━━━━━━━━━━━━━━━━\u001b[0m\u001b[37m\u001b[0m \u001b[1m19s\u001b[0m 3ms/step - accuracy: 0.7402 - loss: 0.7315\n",
            "Epoch 10/10\n",
            "\u001b[1m7263/7263\u001b[0m \u001b[32m━━━━━━━━━━━━━━━━━━━━\u001b[0m\u001b[37m\u001b[0m \u001b[1m21s\u001b[0m 3ms/step - accuracy: 0.7414 - loss: 0.7300\n",
            "Evaluating on Test Set:\n",
            "\u001b[1m10894/10894\u001b[0m \u001b[32m━━━━━━━━━━━━━━━━━━━━\u001b[0m\u001b[37m\u001b[0m \u001b[1m11s\u001b[0m 1ms/step - accuracy: 0.7717 - loss: 0.6505\n"
          ]
        }
      ],
      "source": [
        "from tensorflow.keras.regularizers import l2\n",
        "\n",
        "model7 = keras.models.Sequential([\n",
        "        keras.layers.Dense(100, input_shape=X_train.shape[1:], kernel_regularizer=l2(0.001), kernel_initializer=HeNormal()),\n",
        "        keras.layers.BatchNormalization(momentum=0.95),\n",
        "        keras.layers.Activation('swish'),\n",
        "        keras.layers.Dropout(0.2),\n",
        "\n",
        "        keras.layers.Dense(200, kernel_regularizer=l2(0.001), kernel_initializer=HeNormal()),\n",
        "        keras.layers.BatchNormalization(momentum=0.95),\n",
        "        keras.layers.Activation('swish'),\n",
        "        keras.layers.Dropout(0.2),\n",
        "\n",
        "        keras.layers.Dense(300, kernel_regularizer=l2(0.001), kernel_initializer=HeNormal()),\n",
        "        keras.layers.BatchNormalization(momentum=0.95),\n",
        "        keras.layers.Activation('swish'),\n",
        "        keras.layers.Dropout(0.2),\n",
        "\n",
        "        keras.layers.Dense(100, kernel_regularizer=l2(0.001), kernel_initializer=HeNormal()),\n",
        "        keras.layers.BatchNormalization(momentum=0.95),\n",
        "        keras.layers.Activation('swish'),\n",
        "        keras.layers.Dropout(0.3),\n",
        "\n",
        "        keras.layers.Dense(40, kernel_regularizer=l2(0.001), kernel_initializer=HeNormal()),\n",
        "        keras.layers.BatchNormalization(momentum=0.95),\n",
        "        keras.layers.Activation('swish'),\n",
        "        keras.layers.Dropout(0.3),\n",
        "\n",
        "        keras.layers.Dense(7, activation=\"softmax\")\n",
        "    ])\n",
        "\n",
        "model7.compile(loss=\"sparse_categorical_crossentropy\",\n",
        "              metrics=[\"accuracy\"])\n",
        "\n",
        "\n",
        "history = model7.fit(X_train_scaled, Y_train, epochs=10)\n",
        "\n",
        "print(\"Evaluating on Test Set:\")\n",
        "predictions = model7.evaluate(X_test_scaled, Y_test)"
      ]
    },
    {
      "cell_type": "markdown",
      "metadata": {},
      "source": [
        "It looks like dropout and regularization are decreasing performance, which can happen if the model is not overfitting."
      ]
    },
    {
      "cell_type": "markdown",
      "metadata": {},
      "source": [
        "### 8. More dence network structure + Activation function (Swish) + Batch normalization .95 + Kernel initializer"
      ]
    },
    {
      "cell_type": "code",
      "execution_count": 34,
      "metadata": {},
      "outputs": [
        {
          "name": "stdout",
          "output_type": "stream",
          "text": [
            "Epoch 1/10\n",
            "\u001b[1m1057/1057\u001b[0m \u001b[32m━━━━━━━━━━━━━━━━━━━━\u001b[0m\u001b[37m\u001b[0m \u001b[1m5s\u001b[0m 4ms/step - accuracy: 0.7104 - loss: 0.7613\n",
            "Epoch 2/10\n",
            "\u001b[1m1057/1057\u001b[0m \u001b[32m━━━━━━━━━━━━━━━━━━━━\u001b[0m\u001b[37m\u001b[0m \u001b[1m5s\u001b[0m 4ms/step - accuracy: 0.7887 - loss: 0.4908\n",
            "Epoch 3/10\n",
            "\u001b[1m1057/1057\u001b[0m \u001b[32m━━━━━━━━━━━━━━━━━━━━\u001b[0m\u001b[37m\u001b[0m \u001b[1m4s\u001b[0m 4ms/step - accuracy: 0.8168 - loss: 0.4313\n",
            "Epoch 4/10\n",
            "\u001b[1m1057/1057\u001b[0m \u001b[32m━━━━━━━━━━━━━━━━━━━━\u001b[0m\u001b[37m\u001b[0m \u001b[1m4s\u001b[0m 4ms/step - accuracy: 0.8314 - loss: 0.3967\n",
            "Epoch 5/10\n",
            "\u001b[1m1057/1057\u001b[0m \u001b[32m━━━━━━━━━━━━━━━━━━━━\u001b[0m\u001b[37m\u001b[0m \u001b[1m4s\u001b[0m 4ms/step - accuracy: 0.8432 - loss: 0.3692\n",
            "Epoch 6/10\n",
            "\u001b[1m1057/1057\u001b[0m \u001b[32m━━━━━━━━━━━━━━━━━━━━\u001b[0m\u001b[37m\u001b[0m \u001b[1m4s\u001b[0m 4ms/step - accuracy: 0.8526 - loss: 0.3495\n",
            "Epoch 7/10\n",
            "\u001b[1m1057/1057\u001b[0m \u001b[32m━━━━━━━━━━━━━━━━━━━━\u001b[0m\u001b[37m\u001b[0m \u001b[1m4s\u001b[0m 4ms/step - accuracy: 0.8601 - loss: 0.3331\n",
            "Epoch 8/10\n",
            "\u001b[1m1057/1057\u001b[0m \u001b[32m━━━━━━━━━━━━━━━━━━━━\u001b[0m\u001b[37m\u001b[0m \u001b[1m4s\u001b[0m 4ms/step - accuracy: 0.8680 - loss: 0.3180\n",
            "Epoch 9/10\n",
            "\u001b[1m1057/1057\u001b[0m \u001b[32m━━━━━━━━━━━━━━━━━━━━\u001b[0m\u001b[37m\u001b[0m \u001b[1m5s\u001b[0m 4ms/step - accuracy: 0.8723 - loss: 0.3055\n",
            "Epoch 10/10\n",
            "\u001b[1m1057/1057\u001b[0m \u001b[32m━━━━━━━━━━━━━━━━━━━━\u001b[0m\u001b[37m\u001b[0m \u001b[1m5s\u001b[0m 4ms/step - accuracy: 0.8763 - loss: 0.2967\n",
            "Evaluating on Test Set:\n",
            "\u001b[1m10894/10894\u001b[0m \u001b[32m━━━━━━━━━━━━━━━━━━━━\u001b[0m\u001b[37m\u001b[0m \u001b[1m9s\u001b[0m 819us/step - accuracy: 0.8816 - loss: 0.2885\n"
          ]
        }
      ],
      "source": [
        "from tensorflow.keras.initializers import HeNormal\n",
        "\n",
        "model8 = keras.models.Sequential([\n",
        "\n",
        "        keras.layers.Dense(200, input_shape=X_train.shape[1:], kernel_initializer=HeNormal()),\n",
        "        keras.layers.BatchNormalization(momentum=0.95),\n",
        "        keras.layers.Activation('swish'),\n",
        "\n",
        "        keras.layers.Dense(150, input_shape=X_train.shape[1:], kernel_initializer=HeNormal()),\n",
        "        keras.layers.BatchNormalization(momentum=0.95),\n",
        "        keras.layers.Activation('swish'),\n",
        "\n",
        "        keras.layers.Dense(100, kernel_initializer=HeNormal()),\n",
        "        keras.layers.BatchNormalization(momentum=0.95),\n",
        "        keras.layers.Activation('swish'),\n",
        "\n",
        "        keras.layers.Dense(50, kernel_initializer=HeNormal()),\n",
        "        keras.layers.BatchNormalization(momentum=0.95),\n",
        "        keras.layers.Activation('swish'),\n",
        "\n",
        "        keras.layers.Dense(7, activation=\"softmax\")\n",
        "    ])\n",
        "\n",
        "model8.compile(loss=\"sparse_categorical_crossentropy\",\n",
        "              metrics=[\"accuracy\"])\n",
        "\n",
        "\n",
        "history = model8.fit(X_train_scaled, Y_train, epochs=10, batch_size=128)\n",
        "\n",
        "print(\"Evaluating on Test Set:\")\n",
        "predictions = model8.evaluate(X_test_scaled, Y_test)"
      ]
    }
  ],
  "metadata": {
    "colab": {
      "provenance": []
    },
    "kernelspec": {
      "display_name": "Python 3",
      "language": "python",
      "name": "python3"
    },
    "language_info": {
      "codemirror_mode": {
        "name": "ipython",
        "version": 3
      },
      "file_extension": ".py",
      "mimetype": "text/x-python",
      "name": "python",
      "nbconvert_exporter": "python",
      "pygments_lexer": "ipython3",
      "version": "3.10.13"
    }
  },
  "nbformat": 4,
  "nbformat_minor": 0
}
