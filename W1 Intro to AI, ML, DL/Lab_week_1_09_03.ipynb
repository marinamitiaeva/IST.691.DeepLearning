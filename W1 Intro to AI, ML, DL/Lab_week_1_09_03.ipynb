{
  "cells": [
    {
      "cell_type": "code",
      "execution_count": 8,
      "metadata": {
        "colab": {
          "base_uri": "https://localhost:8080/",
          "height": 463
        },
        "id": "0x7vDTwsDree",
        "outputId": "c71bf4a4-f8dd-43db-a7cd-46fbfafc5c27"
      },
      "outputs": [],
      "source": [
        "from sklearn.datasets import fetch_openml\n",
        "from sklearn.decomposition import PCA\n",
        "from sklearn.neighbors import KNeighborsClassifier\n",
        "from sklearn.model_selection import train_test_split\n",
        "from sklearn.metrics import accuracy_score, precision_score, recall_score, f1_score, confusion_matrix, roc_auc_score, classification_report\n",
        "import matplotlib.pyplot as plt\n",
        "import numpy as np\n",
        "import matplotlib.pyplot as plt\n",
        "import seaborn as sns\n",
        "from sklearn.preprocessing import StandardScaler\n",
        "from sklearn.svm import SVC\n",
        "from sklearn.ensemble import RandomForestClassifier\n",
        "from sklearn.linear_model import LogisticRegression\n",
        "from sklearn.pipeline import Pipeline\n",
        "import pandas as pd\n",
        "\n",
        "\n",
        "# Step 1: Load MNIST data\n",
        "mnist = fetch_openml(\"mnist_784\", version=1)\n",
        "X, y = mnist[\"data\"].values, mnist[\"target\"].astype(int).values\n",
        "\n",
        "# Sample the dataset to speed up computation (Optional)\n",
        "X, y = X[:7000], y[:7000]\n",
        "\n",
        "# Split the dataset\n",
        "X_mnist_train, X_mnist_test, y_mnist_train, y_mnist_test = train_test_split(X, y, test_size=0.2, random_state=42)"
      ]
    },
    {
      "cell_type": "code",
      "execution_count": 9,
      "metadata": {
        "colab": {
          "base_uri": "https://localhost:8080/",
          "height": 406
        },
        "id": "YZO97a8lGc7f",
        "outputId": "021a3bc9-f590-4656-899f-bb2f561739ba"
      },
      "outputs": [
        {
          "data": {
            "image/png": "[encoded data removed]",
            "text/plain": [
              "<Figure size 640x480 with 1 Axes>"
            ]
          },
          "metadata": {},
          "output_type": "display_data"
        }
      ],
      "source": [
        "import matplotlib.pyplot as plt\n",
        "\n",
        "# Define function to plot a single digit\n",
        "def plot_digit(image_data):\n",
        "    image = image_data.reshape(28, 28)\n",
        "    plt.imshow(image, cmap=\"binary\")\n",
        "    plt.axis(\"off\")\n",
        "\n",
        "some_digit = X[3]\n",
        "plot_digit(some_digit)\n",
        "plt.show()"
      ]
    },
    {
      "cell_type": "code",
      "execution_count": 10,
      "metadata": {
        "colab": {
          "base_uri": "https://localhost:8080/"
        },
        "id": "RxL0S7AWHQ8x",
        "outputId": "5d5e2639-9706-4e6f-f88a-a69871d70d7e"
      },
      "outputs": [
        {
          "name": "stdout",
          "output_type": "stream",
          "text": [
            "value: [1]\n",
            "accuracy: 0.8707142857142857\n"
          ]
        }
      ],
      "source": [
        "from sklearn.linear_model import SGDClassifier\n",
        "from sklearn.metrics import accuracy_score\n",
        "\n",
        "sgd_clf = SGDClassifier(random_state=42)\n",
        "sgd_clf.fit(X_mnist_train, y_mnist_train)\n",
        "\n",
        "value = sgd_clf.predict([some_digit])\n",
        "\n",
        "print(f'value: {value}')\n",
        "\n",
        "\n",
        "y_predicted = sgd_clf.predict(X_mnist_test)\n",
        "accuracy = accuracy_score(y_mnist_test, y_predicted)\n",
        "print(f'accuracy: {accuracy}')\n"
      ]
    },
    {
      "cell_type": "code",
      "execution_count": 11,
      "metadata": {
        "colab": {
          "base_uri": "https://localhost:8080/"
        },
        "id": "7u99MVF7H0do",
        "outputId": "d3f89e83-e36e-4890-f473-95551a1ac05c"
      },
      "outputs": [
        {
          "data": {
            "text/plain": [
              "array([0.86073915, 0.87091591, 0.85048232])"
            ]
          },
          "execution_count": 11,
          "metadata": {},
          "output_type": "execute_result"
        }
      ],
      "source": [
        "from sklearn.model_selection import cross_val_score\n",
        "\n",
        "# Scikit learn makes it easy to use cross validation with simple measures\n",
        "# CV is the number of folds\n",
        "cross_val_score(sgd_clf, X_mnist_train, y_mnist_train, cv=3, scoring=\"accuracy\")"
      ]
    },
    {
      "cell_type": "markdown",
      "metadata": {
        "id": "PL6EJJuBJecl"
      },
      "source": [
        "**To Turn In**\n",
        "\n",
        "Choose three different classifiers (not using any neural networks) and see which performs better on the dataset.  Please include code that cleanly demonstrates the three models you have attempted to use.\n",
        "\n",
        "**Rules:**\n",
        "1.  Ensure you compare them in consistent ways.\n",
        "2.  Ensure there is no data leakage between the training and test set.\n",
        "\n",
        "**Answer the following questions:**\n",
        "\n",
        "0. What data cleaning did you attempt to do?\n",
        "\n",
        "I performed exploratory data analysis (EDA) and did not find any need for data cleaning. There were no missing values or duplicates, and the classes appeared balanced.\n",
        "\n",
        "For data preprocessing, I used StandardScaler to normalize the data and Principal Component Analysis (PCA) to reduce the number of features and simplify the model.\n",
        "\n",
        "1. Which models did you try?  Include a link to the documentation for the model you are using.\n",
        "\n",
        "- Support Vector Classification https://scikit-learn.org/stable/modules/generated/sklearn.svm.SVC.html#sklearn.svm.SVC\n",
        "- Random Forest Classifier https://scikit-learn.org/stable/modules/generated/sklearn.ensemble.RandomForestClassifier.html\n",
        "- Logistic Regression CV https://scikit-learn.org/stable/modules/generated/sklearn.linear_model.LogisticRegressionCV.html\n",
        "\n",
        "\n",
        "2. Which hyperparamaters did you choose and why?\n",
        "\n",
        "- For SVC, I chose C, the regularization parameter, to control the trade-off between regularization strength and model performance.\n",
        "- For Random Forest, I chose n_estimators, the number of trees in the forest, to balance performance and computational costs.\n",
        "- For Logistic Regression, I selected the penalty parameter, using L1 (Lasso regularization), which could potentially help ignore background pixels that do not contribute to the classification task.\n",
        "\n",
        "\n",
        "3. How did you evaluate the models?  Which metric did you choose to use, why?\n",
        "\n",
        "I decided to look at all the metrics covered in class to understand their differences. Since the data is balanced, accuracy could be used alone, but I explored other metrics for deeper insight.\n",
        "\n",
        "- Accuracy: The ratio of correctly predicted instances to the total instances. (e.g., accuracy is 98% if the model correctly predicts 98 out of 100 digits.)\n",
        "- Precision: Measures how many of the predicted positive instances were actually positive. (e.g., precision is 80% if the model predicts 50 digits as a 3, but only 40 of them are actually 3s.)\n",
        "- Recall: Measures how many actual positive instances were correctly predicted by the model. (e.g., recall is 70% if the model correctly identifies 70 out of 100 examples of the digit 3.)\n",
        "- F1-Score: The harmonic mean of precision and recall. (e.g., if the model has a precision of 80% and recall of 70%, the F1-score will be around 74%.)\n",
        "- ROC-AUC: Measures the model’s performance across all classification thresholds.\n",
        "- Confusion Matrix: Provides a complete breakdown of the classification results, showing where the model is making correct predictions and where it’s making mistakes.\n",
        "\n",
        "4. How do you know your solution is not overfit or underfit?\n",
        "\n",
        "I used k-fold cross-validation to assess how well the model generalizes to unseen data. If the cross-validation results vary widely between folds or the training score is much higher than the cross-validation score, overfitting might be occurring. If both the training score and cross-validation score are low, the model is likely underfitting. In our case, the performance is high and stable, indicating that the models are neither overfitting nor underfitting.\n"
      ]
    },
    {
      "cell_type": "markdown",
      "metadata": {},
      "source": [
        "### EDA"
      ]
    },
    {
      "cell_type": "code",
      "execution_count": 12,
      "metadata": {
        "id": "1vZWuJFOICW-"
      },
      "outputs": [
        {
          "data": {
            "text/plain": [
              "array([[0, 0, 0, ..., 0, 0, 0],\n",
              "       [0, 0, 0, ..., 0, 0, 0],\n",
              "       [0, 0, 0, ..., 0, 0, 0],\n",
              "       ...,\n",
              "       [0, 0, 0, ..., 0, 0, 0],\n",
              "       [0, 0, 0, ..., 0, 0, 0],\n",
              "       [0, 0, 0, ..., 0, 0, 0]])"
            ]
          },
          "execution_count": 12,
          "metadata": {},
          "output_type": "execute_result"
        }
      ],
      "source": [
        "X_mnist_train"
      ]
    },
    {
      "cell_type": "code",
      "execution_count": 13,
      "metadata": {},
      "outputs": [
        {
          "data": {
            "text/plain": [
              "array([5, 7, 2, ..., 6, 9, 0])"
            ]
          },
          "execution_count": 13,
          "metadata": {},
          "output_type": "execute_result"
        }
      ],
      "source": [
        "y_mnist_train"
      ]
    },
    {
      "cell_type": "code",
      "execution_count": 14,
      "metadata": {},
      "outputs": [
        {
          "name": "stdout",
          "output_type": "stream",
          "text": [
            "0\n"
          ]
        }
      ],
      "source": [
        "# Check for missing values\n",
        "print(pd.DataFrame(X_mnist_train).isnull().sum().sum()) "
      ]
    },
    {
      "cell_type": "code",
      "execution_count": 15,
      "metadata": {},
      "outputs": [
        {
          "data": {
            "text/plain": [
              "0"
            ]
          },
          "execution_count": 15,
          "metadata": {},
          "output_type": "execute_result"
        }
      ],
      "source": [
        "# Check for duplicates\n",
        "num_duplicates = len(X_mnist_train) - len(np.unique(X_mnist_train, axis=0))\n",
        "num_duplicates"
      ]
    },
    {
      "cell_type": "code",
      "execution_count": 16,
      "metadata": {},
      "outputs": [
        {
          "data": {
            "image/png": "[encoded data removed]",
            "text/plain": [
              "<Figure size 640x480 with 1 Axes>"
            ]
          },
          "metadata": {},
          "output_type": "display_data"
        }
      ],
      "source": [
        "# Check the distribution of target classes (digits)\n",
        "sns.countplot(x=y_mnist_train)\n",
        "plt.title('Distribution of MNIST Classes')\n",
        "plt.show()"
      ]
    },
    {
      "cell_type": "code",
      "execution_count": 17,
      "metadata": {},
      "outputs": [
        {
          "data": {
            "text/html": [
              "<div>\n",
              "<style scoped>\n",
              "    .dataframe tbody tr th:only-of-type {\n",
              "        vertical-align: middle;\n",
              "    }\n",
              "\n",
              "    .dataframe tbody tr th {\n",
              "        vertical-align: top;\n",
              "    }\n",
              "\n",
              "    .dataframe thead th {\n",
              "        text-align: right;\n",
              "    }\n",
              "</style>\n",
              "<table border=\"1\" class=\"dataframe\">\n",
              "  <thead>\n",
              "    <tr style=\"text-align: right;\">\n",
              "      <th></th>\n",
              "      <th>0</th>\n",
              "      <th>1</th>\n",
              "      <th>2</th>\n",
              "      <th>3</th>\n",
              "      <th>4</th>\n",
              "      <th>5</th>\n",
              "      <th>6</th>\n",
              "      <th>7</th>\n",
              "      <th>8</th>\n",
              "      <th>9</th>\n",
              "      <th>...</th>\n",
              "      <th>774</th>\n",
              "      <th>775</th>\n",
              "      <th>776</th>\n",
              "      <th>777</th>\n",
              "      <th>778</th>\n",
              "      <th>779</th>\n",
              "      <th>780</th>\n",
              "      <th>781</th>\n",
              "      <th>782</th>\n",
              "      <th>783</th>\n",
              "    </tr>\n",
              "  </thead>\n",
              "  <tbody>\n",
              "    <tr>\n",
              "      <th>count</th>\n",
              "      <td>5600.0</td>\n",
              "      <td>5600.0</td>\n",
              "      <td>5600.0</td>\n",
              "      <td>5600.0</td>\n",
              "      <td>5600.0</td>\n",
              "      <td>5600.0</td>\n",
              "      <td>5600.0</td>\n",
              "      <td>5600.0</td>\n",
              "      <td>5600.0</td>\n",
              "      <td>5600.0</td>\n",
              "      <td>...</td>\n",
              "      <td>5600.000000</td>\n",
              "      <td>5600.000000</td>\n",
              "      <td>5600.000000</td>\n",
              "      <td>5600.000000</td>\n",
              "      <td>5600.000000</td>\n",
              "      <td>5600.0</td>\n",
              "      <td>5600.0</td>\n",
              "      <td>5600.0</td>\n",
              "      <td>5600.0</td>\n",
              "      <td>5600.0</td>\n",
              "    </tr>\n",
              "    <tr>\n",
              "      <th>mean</th>\n",
              "      <td>0.0</td>\n",
              "      <td>0.0</td>\n",
              "      <td>0.0</td>\n",
              "      <td>0.0</td>\n",
              "      <td>0.0</td>\n",
              "      <td>0.0</td>\n",
              "      <td>0.0</td>\n",
              "      <td>0.0</td>\n",
              "      <td>0.0</td>\n",
              "      <td>0.0</td>\n",
              "      <td>...</td>\n",
              "      <td>0.225179</td>\n",
              "      <td>0.137143</td>\n",
              "      <td>0.075714</td>\n",
              "      <td>0.061250</td>\n",
              "      <td>0.060179</td>\n",
              "      <td>0.0</td>\n",
              "      <td>0.0</td>\n",
              "      <td>0.0</td>\n",
              "      <td>0.0</td>\n",
              "      <td>0.0</td>\n",
              "    </tr>\n",
              "    <tr>\n",
              "      <th>std</th>\n",
              "      <td>0.0</td>\n",
              "      <td>0.0</td>\n",
              "      <td>0.0</td>\n",
              "      <td>0.0</td>\n",
              "      <td>0.0</td>\n",
              "      <td>0.0</td>\n",
              "      <td>0.0</td>\n",
              "      <td>0.0</td>\n",
              "      <td>0.0</td>\n",
              "      <td>0.0</td>\n",
              "      <td>...</td>\n",
              "      <td>6.488715</td>\n",
              "      <td>4.412283</td>\n",
              "      <td>4.002542</td>\n",
              "      <td>2.788938</td>\n",
              "      <td>2.737315</td>\n",
              "      <td>0.0</td>\n",
              "      <td>0.0</td>\n",
              "      <td>0.0</td>\n",
              "      <td>0.0</td>\n",
              "      <td>0.0</td>\n",
              "    </tr>\n",
              "    <tr>\n",
              "      <th>min</th>\n",
              "      <td>0.0</td>\n",
              "      <td>0.0</td>\n",
              "      <td>0.0</td>\n",
              "      <td>0.0</td>\n",
              "      <td>0.0</td>\n",
              "      <td>0.0</td>\n",
              "      <td>0.0</td>\n",
              "      <td>0.0</td>\n",
              "      <td>0.0</td>\n",
              "      <td>0.0</td>\n",
              "      <td>...</td>\n",
              "      <td>0.000000</td>\n",
              "      <td>0.000000</td>\n",
              "      <td>0.000000</td>\n",
              "      <td>0.000000</td>\n",
              "      <td>0.000000</td>\n",
              "      <td>0.0</td>\n",
              "      <td>0.0</td>\n",
              "      <td>0.0</td>\n",
              "      <td>0.0</td>\n",
              "      <td>0.0</td>\n",
              "    </tr>\n",
              "    <tr>\n",
              "      <th>25%</th>\n",
              "      <td>0.0</td>\n",
              "      <td>0.0</td>\n",
              "      <td>0.0</td>\n",
              "      <td>0.0</td>\n",
              "      <td>0.0</td>\n",
              "      <td>0.0</td>\n",
              "      <td>0.0</td>\n",
              "      <td>0.0</td>\n",
              "      <td>0.0</td>\n",
              "      <td>0.0</td>\n",
              "      <td>...</td>\n",
              "      <td>0.000000</td>\n",
              "      <td>0.000000</td>\n",
              "      <td>0.000000</td>\n",
              "      <td>0.000000</td>\n",
              "      <td>0.000000</td>\n",
              "      <td>0.0</td>\n",
              "      <td>0.0</td>\n",
              "      <td>0.0</td>\n",
              "      <td>0.0</td>\n",
              "      <td>0.0</td>\n",
              "    </tr>\n",
              "    <tr>\n",
              "      <th>50%</th>\n",
              "      <td>0.0</td>\n",
              "      <td>0.0</td>\n",
              "      <td>0.0</td>\n",
              "      <td>0.0</td>\n",
              "      <td>0.0</td>\n",
              "      <td>0.0</td>\n",
              "      <td>0.0</td>\n",
              "      <td>0.0</td>\n",
              "      <td>0.0</td>\n",
              "      <td>0.0</td>\n",
              "      <td>...</td>\n",
              "      <td>0.000000</td>\n",
              "      <td>0.000000</td>\n",
              "      <td>0.000000</td>\n",
              "      <td>0.000000</td>\n",
              "      <td>0.000000</td>\n",
              "      <td>0.0</td>\n",
              "      <td>0.0</td>\n",
              "      <td>0.0</td>\n",
              "      <td>0.0</td>\n",
              "      <td>0.0</td>\n",
              "    </tr>\n",
              "    <tr>\n",
              "      <th>75%</th>\n",
              "      <td>0.0</td>\n",
              "      <td>0.0</td>\n",
              "      <td>0.0</td>\n",
              "      <td>0.0</td>\n",
              "      <td>0.0</td>\n",
              "      <td>0.0</td>\n",
              "      <td>0.0</td>\n",
              "      <td>0.0</td>\n",
              "      <td>0.0</td>\n",
              "      <td>0.0</td>\n",
              "      <td>...</td>\n",
              "      <td>0.000000</td>\n",
              "      <td>0.000000</td>\n",
              "      <td>0.000000</td>\n",
              "      <td>0.000000</td>\n",
              "      <td>0.000000</td>\n",
              "      <td>0.0</td>\n",
              "      <td>0.0</td>\n",
              "      <td>0.0</td>\n",
              "      <td>0.0</td>\n",
              "      <td>0.0</td>\n",
              "    </tr>\n",
              "    <tr>\n",
              "      <th>max</th>\n",
              "      <td>0.0</td>\n",
              "      <td>0.0</td>\n",
              "      <td>0.0</td>\n",
              "      <td>0.0</td>\n",
              "      <td>0.0</td>\n",
              "      <td>0.0</td>\n",
              "      <td>0.0</td>\n",
              "      <td>0.0</td>\n",
              "      <td>0.0</td>\n",
              "      <td>0.0</td>\n",
              "      <td>...</td>\n",
              "      <td>254.000000</td>\n",
              "      <td>254.000000</td>\n",
              "      <td>253.000000</td>\n",
              "      <td>187.000000</td>\n",
              "      <td>154.000000</td>\n",
              "      <td>0.0</td>\n",
              "      <td>0.0</td>\n",
              "      <td>0.0</td>\n",
              "      <td>0.0</td>\n",
              "      <td>0.0</td>\n",
              "    </tr>\n",
              "  </tbody>\n",
              "</table>\n",
              "<p>8 rows × 784 columns</p>\n",
              "</div>"
            ],
            "text/plain": [
              "          0       1       2       3       4       5       6       7       8    \\\n",
              "count  5600.0  5600.0  5600.0  5600.0  5600.0  5600.0  5600.0  5600.0  5600.0   \n",
              "mean      0.0     0.0     0.0     0.0     0.0     0.0     0.0     0.0     0.0   \n",
              "std       0.0     0.0     0.0     0.0     0.0     0.0     0.0     0.0     0.0   \n",
              "min       0.0     0.0     0.0     0.0     0.0     0.0     0.0     0.0     0.0   \n",
              "25%       0.0     0.0     0.0     0.0     0.0     0.0     0.0     0.0     0.0   \n",
              "50%       0.0     0.0     0.0     0.0     0.0     0.0     0.0     0.0     0.0   \n",
              "75%       0.0     0.0     0.0     0.0     0.0     0.0     0.0     0.0     0.0   \n",
              "max       0.0     0.0     0.0     0.0     0.0     0.0     0.0     0.0     0.0   \n",
              "\n",
              "          9    ...          774          775          776          777  \\\n",
              "count  5600.0  ...  5600.000000  5600.000000  5600.000000  5600.000000   \n",
              "mean      0.0  ...     0.225179     0.137143     0.075714     0.061250   \n",
              "std       0.0  ...     6.488715     4.412283     4.002542     2.788938   \n",
              "min       0.0  ...     0.000000     0.000000     0.000000     0.000000   \n",
              "25%       0.0  ...     0.000000     0.000000     0.000000     0.000000   \n",
              "50%       0.0  ...     0.000000     0.000000     0.000000     0.000000   \n",
              "75%       0.0  ...     0.000000     0.000000     0.000000     0.000000   \n",
              "max       0.0  ...   254.000000   254.000000   253.000000   187.000000   \n",
              "\n",
              "               778     779     780     781     782     783  \n",
              "count  5600.000000  5600.0  5600.0  5600.0  5600.0  5600.0  \n",
              "mean      0.060179     0.0     0.0     0.0     0.0     0.0  \n",
              "std       2.737315     0.0     0.0     0.0     0.0     0.0  \n",
              "min       0.000000     0.0     0.0     0.0     0.0     0.0  \n",
              "25%       0.000000     0.0     0.0     0.0     0.0     0.0  \n",
              "50%       0.000000     0.0     0.0     0.0     0.0     0.0  \n",
              "75%       0.000000     0.0     0.0     0.0     0.0     0.0  \n",
              "max     154.000000     0.0     0.0     0.0     0.0     0.0  \n",
              "\n",
              "[8 rows x 784 columns]"
            ]
          },
          "execution_count": 17,
          "metadata": {},
          "output_type": "execute_result"
        }
      ],
      "source": [
        "pd.DataFrame(X_mnist_train).describe()"
      ]
    },
    {
      "cell_type": "markdown",
      "metadata": {},
      "source": [
        "### Modeling"
      ]
    },
    {
      "cell_type": "code",
      "execution_count": 18,
      "metadata": {},
      "outputs": [],
      "source": [
        "# Define the classifiers with pipelines\n",
        "\n",
        "pipelines = {\n",
        "    \"SVC\": Pipeline([\n",
        "        ('scaler', StandardScaler()),\n",
        "        ('pca', PCA(n_components=0.95)),\n",
        "        ('svc', SVC(probability=True, random_state=42, C=1.5))\n",
        "    ]),\n",
        "    \"RandomForest\": Pipeline([\n",
        "        ('scaler', StandardScaler()),\n",
        "        ('pca', PCA(n_components=0.95)),\n",
        "        ('rf', RandomForestClassifier(random_state=42, n_estimators=200))\n",
        "    ]),\n",
        "    \"LogisticRegression\": Pipeline([\n",
        "        ('scaler', StandardScaler()),\n",
        "        ('pca', PCA(n_components=0.95)),\n",
        "        ('lr', LogisticRegression(max_iter=1000, random_state=42, penalty='l1', solver='liblinear'))\n",
        "    ])\n",
        "}"
      ]
    },
    {
      "cell_type": "code",
      "execution_count": 19,
      "metadata": {},
      "outputs": [],
      "source": [
        "# Train and evaluate each pipeline\n",
        "\n",
        "results = {}\n",
        "\n",
        "for name, pipeline in pipelines.items():\n",
        "    pipeline.fit(X_mnist_train, y_mnist_train)\n",
        "    \n",
        "    # Predictions on the test set\n",
        "    y_pred = pipeline.predict(X_mnist_test)\n",
        "    \n",
        "    # Evaluate the model using various metrics\n",
        "    accuracy = accuracy_score(y_mnist_test, y_pred)\n",
        "    precision = precision_score(y_mnist_test, y_pred, average='macro')\n",
        "    recall = recall_score(y_mnist_test, y_pred, average='macro')\n",
        "    f1 = f1_score(y_mnist_test, y_pred, average='macro')\n",
        "    roc_auc = roc_auc_score(y_mnist_test, pipeline.predict_proba(X_mnist_test), multi_class='ovr')\n",
        "    confusion = confusion_matrix(y_mnist_test, y_pred)\n",
        "    \n",
        "    # Save results\n",
        "    results[name] = {\n",
        "        \"accuracy\": accuracy,\n",
        "        \"precision\": precision,\n",
        "        \"recall\": recall,\n",
        "        \"f1_score\": f1,\n",
        "        \"roc_auc\": roc_auc,\n",
        "        \"confusion_matrix\": confusion\n",
        "    }"
      ]
    },
    {
      "cell_type": "code",
      "execution_count": 20,
      "metadata": {},
      "outputs": [
        {
          "data": {
            "text/plain": [
              "{'accuracy': 0.9485714285714286,\n",
              " 'precision': np.float64(0.9486636403762925),\n",
              " 'recall': np.float64(0.9469782983142915),\n",
              " 'f1_score': np.float64(0.9475267985119024),\n",
              " 'roc_auc': np.float64(0.9976103477680056),\n",
              " 'confusion_matrix': array([[135,   0,   1,   0,   0,   0,   1,   0,   1,   0],\n",
              "        [  0, 157,   1,   0,   0,   0,   0,   0,   0,   0],\n",
              "        [  2,   0, 134,   2,   1,   0,   0,   1,   1,   1],\n",
              "        [  0,   1,   6, 125,   0,   4,   1,   1,   2,   1],\n",
              "        [  0,   1,   2,   0, 140,   0,   0,   0,   0,   3],\n",
              "        [  1,   1,   1,   2,   0, 125,   3,   1,   0,   0],\n",
              "        [  0,   0,   4,   0,   0,   1, 134,   0,   0,   0],\n",
              "        [  0,   0,   0,   0,   1,   0,   0, 147,   0,   2],\n",
              "        [  1,   0,   2,   2,   0,   4,   0,   1, 101,   0],\n",
              "        [  1,   1,   0,   2,   1,   0,   0,   5,   1, 130]])}"
            ]
          },
          "execution_count": 20,
          "metadata": {},
          "output_type": "execute_result"
        }
      ],
      "source": [
        "results['SVC']"
      ]
    },
    {
      "cell_type": "code",
      "execution_count": 22,
      "metadata": {},
      "outputs": [
        {
          "data": {
            "text/plain": [
              "{'accuracy': 0.915,\n",
              " 'precision': np.float64(0.9137984004086237),\n",
              " 'recall': np.float64(0.9120153981689763),\n",
              " 'f1_score': np.float64(0.9121862193945628),\n",
              " 'roc_auc': np.float64(0.9928802239574971),\n",
              " 'confusion_matrix': array([[130,   0,   0,   3,   0,   1,   3,   0,   1,   0],\n",
              "        [  0, 158,   0,   0,   0,   0,   0,   0,   0,   0],\n",
              "        [  1,   1, 124,   6,   1,   0,   3,   2,   3,   1],\n",
              "        [  0,   0,   9, 125,   0,   1,   1,   1,   3,   1],\n",
              "        [  0,   2,   2,   0, 135,   1,   1,   0,   0,   5],\n",
              "        [  1,   0,   2,  10,   0, 109,   0,   0,   9,   3],\n",
              "        [  1,   0,   1,   0,   1,   1, 135,   0,   0,   0],\n",
              "        [  0,   0,   0,   1,   2,   0,   0, 145,   0,   2],\n",
              "        [  1,   0,   2,   7,   2,   3,   0,   1,  95,   0],\n",
              "        [  3,   1,   0,   2,   2,   0,   0,   6,   2, 125]])}"
            ]
          },
          "execution_count": 22,
          "metadata": {},
          "output_type": "execute_result"
        }
      ],
      "source": [
        "results['RandomForest']"
      ]
    },
    {
      "cell_type": "code",
      "execution_count": 24,
      "metadata": {},
      "outputs": [
        {
          "data": {
            "text/plain": [
              "{'accuracy': 0.9007142857142857,\n",
              " 'precision': np.float64(0.8997980450985539),\n",
              " 'recall': np.float64(0.8978974211778379),\n",
              " 'f1_score': np.float64(0.8981375319425832),\n",
              " 'roc_auc': np.float64(0.9856958882058008),\n",
              " 'confusion_matrix': array([[130,   0,   0,   1,   0,   0,   4,   1,   2,   0],\n",
              "        [  0, 156,   1,   0,   0,   0,   0,   0,   1,   0],\n",
              "        [  2,   1, 119,   3,   2,   2,   1,   7,   4,   1],\n",
              "        [  1,   2,   7, 117,   1,   5,   2,   1,   2,   3],\n",
              "        [  0,   2,   1,   1, 131,   0,   2,   0,   2,   7],\n",
              "        [  1,   2,   1,   5,   1, 114,   2,   2,   4,   2],\n",
              "        [  0,   0,   1,   0,   2,   2, 134,   0,   0,   0],\n",
              "        [  0,   0,   0,   0,   1,   0,   0, 145,   0,   4],\n",
              "        [  1,   3,   1,   4,   3,   3,   1,   1,  93,   1],\n",
              "        [  0,   0,   1,   3,   1,   1,   0,  12,   1, 122]])}"
            ]
          },
          "execution_count": 24,
          "metadata": {},
          "output_type": "execute_result"
        }
      ],
      "source": [
        "results['LogisticRegression']"
      ]
    },
    {
      "cell_type": "code",
      "execution_count": 26,
      "metadata": {},
      "outputs": [
        {
          "name": "stdout",
          "output_type": "stream",
          "text": [
            "\n",
            "Cross-Validation Scores for SVC: [0.93035714 0.93660714 0.93303571 0.93303571 0.925     ]\n",
            "Mean CV Score: 0.9316\n",
            "\n",
            "Cross-Validation Scores for RandomForest: [0.90803571 0.91339286 0.90714286 0.89464286 0.90178571]\n",
            "Mean CV Score: 0.9050\n",
            "\n",
            "Cross-Validation Scores for LogisticRegression: [0.89642857 0.88660714 0.90982143 0.90535714 0.88214286]\n",
            "Mean CV Score: 0.8961\n"
          ]
        }
      ],
      "source": [
        "for name, pipeline in pipelines.items():\n",
        "    cv_scores = cross_val_score(pipeline, X_mnist_train, y_mnist_train, cv=5)\n",
        "    print(f\"\\nCross-Validation Scores for {name}: {cv_scores}\")\n",
        "    print(f\"Mean CV Score: {cv_scores.mean():.4f}\")"
      ]
    }
  ],
  "metadata": {
    "colab": {
      "provenance": []
    },
    "kernelspec": {
      "display_name": "Python 3",
      "name": "python3"
    },
    "language_info": {
      "codemirror_mode": {
        "name": "ipython",
        "version": 3
      },
      "file_extension": ".py",
      "mimetype": "text/x-python",
      "name": "python",
      "nbconvert_exporter": "python",
      "pygments_lexer": "ipython3",
      "version": "3.12.1"
    }
  },
  "nbformat": 4,
  "nbformat_minor": 0
}
